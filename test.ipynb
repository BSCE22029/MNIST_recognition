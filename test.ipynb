{
 "cells": [
  {
   "cell_type": "code",
   "execution_count": 2,
   "metadata": {},
   "outputs": [
    {
     "name": "stdout",
     "output_type": "stream",
     "text": [
      "Train Samples: (48000, 784), Validation Samples: (6000, 784), Test Samples: (10000, 784)\n"
     ]
    }
   ],
   "source": [
    "import numpy as np\n",
    "import struct\n",
    "import matplotlib.pyplot as plt\n",
    "\n",
    "# Function to read IDX image files\n",
    "def load_idx_images(filename):\n",
    "    with open(filename, 'rb') as f:\n",
    "        magic, num, rows, cols = struct.unpack(\">IIII\", f.read(16))\n",
    "        images = np.frombuffer(f.read(), dtype=np.uint8).reshape(num, rows * cols)\n",
    "    return images / 255.0  # Normalize pixel values\n",
    "\n",
    "# Function to read IDX label files\n",
    "def load_idx_labels(filename):\n",
    "    with open(filename, 'rb') as f:\n",
    "        magic, num = struct.unpack(\">II\", f.read(8))\n",
    "        labels = np.frombuffer(f.read(), dtype=np.uint8)\n",
    "    return labels\n",
    "\n",
    "# Load training and test datasets\n",
    "x_train = load_idx_images(\"train-images.idx3-ubyte\")\n",
    "y_train = load_idx_labels(\"train-labels.idx1-ubyte\")\n",
    "x_test = load_idx_images(\"t10k-images.idx3-ubyte\")\n",
    "y_test = load_idx_labels(\"t10k-labels.idx1-ubyte\")\n",
    "\n",
    "# Convert labels to one-hot encoding\n",
    "def one_hot_encode(y, num_classes=10):\n",
    "    return np.eye(num_classes)[y]\n",
    "\n",
    "y_train = one_hot_encode(y_train)\n",
    "y_test = one_hot_encode(y_test)\n",
    "\n",
    "# Split into Train (80%), Validation (10%), Test (10%)\n",
    "split1 = int(0.8 * len(x_train))\n",
    "split2 = int(0.9 * len(x_train))\n",
    "x_train, x_val, x_test = x_train[:split1], x_train[split1:split2], x_test\n",
    "y_train, y_val, y_test = y_train[:split1], y_train[split1:split2], y_test\n",
    "\n",
    "print(f\"Train Samples: {x_train.shape}, Validation Samples: {x_val.shape}, Test Samples: {x_test.shape}\")\n"
   ]
  }
 ],
 "metadata": {
  "kernelspec": {
   "display_name": "base",
   "language": "python",
   "name": "python3"
  },
  "language_info": {
   "codemirror_mode": {
    "name": "ipython",
    "version": 3
   },
   "file_extension": ".py",
   "mimetype": "text/x-python",
   "name": "python",
   "nbconvert_exporter": "python",
   "pygments_lexer": "ipython3",
   "version": "3.12.7"
  }
 },
 "nbformat": 4,
 "nbformat_minor": 2
}
