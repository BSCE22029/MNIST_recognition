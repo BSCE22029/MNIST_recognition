{
 "cells": [
  {
   "cell_type": "code",
   "execution_count": 35,
   "metadata": {},
   "outputs": [],
   "source": [
    "import numpy as np\n",
    "import struct\n",
    "import matplotlib.pyplot as plt\n",
    "\n",
    "# Function to read IDX image files\n",
    "def load_idx_images(filename):\n",
    "    with open(filename, 'rb') as f:\n",
    "        magic, num, rows, cols = struct.unpack(\">IIII\", f.read(16))\n",
    "        images = np.frombuffer(f.read(), dtype=np.uint8).reshape(num, rows * cols)\n",
    "    return images / 255.0  # Normalize pixel values\n",
    "\n",
    "# Function to read IDX label files\n",
    "def load_idx_labels(filename):\n",
    "    with open(filename, 'rb') as f:\n",
    "        magic, num = struct.unpack(\">II\", f.read(8))\n",
    "        labels = np.frombuffer(f.read(), dtype=np.uint8)\n",
    "    return labels\n",
    "\n",
    "# Load training and test datasets\n",
    "x_train = load_idx_images(\"train-images.idx3-ubyte\")\n",
    "y_train = load_idx_labels(\"train-labels.idx1-ubyte\")\n",
    "x_test = load_idx_images(\"t10k-images.idx3-ubyte\")\n",
    "y_test = load_idx_labels(\"t10k-labels.idx1-ubyte\")\n",
    "\n",
    "\n"
   ]
  },
  {
   "cell_type": "code",
   "execution_count": 36,
   "metadata": {},
   "outputs": [],
   "source": [
    "# Convert labels to one-hot encoding\n",
    "def one_hot_encode(y, num_classes=10):\n",
    "    return np.eye(num_classes)[y]\n",
    "\n",
    "y_train = one_hot_encode(y_train)\n",
    "y_test = one_hot_encode(y_test)\n",
    "\n"
   ]
  },
  {
   "cell_type": "code",
   "execution_count": null,
   "metadata": {},
   "outputs": [
    {
     "name": "stdout",
     "output_type": "stream",
     "text": [
      "Train Samples: (48000, 784), Validation Samples: (6000, 784), Test Samples: (10000, 784)\n"
     ]
    }
   ],
   "source": [
    "# Split into Train (80%), Validation (10%), Test (10%)\n",
    "split1 = int(0.8 * len(x_train))\n",
    "split2 = int(0.9 * len(x_train))\n",
    "x_train, x_val, x_test = x_train[:split1], x_train[split1:split2], x_test\n",
    "y_train, y_val, y_test = y_train[:split1], y_train[split1:split2], y_test\n",
    "print(f\"Train Samples: {x_train.shape}, Validation Samples: {x_val.shape}, Test Samples: {x_test.shape}\")\n",
    "\n"
   ]
  },
  {
   "cell_type": "code",
   "execution_count": 38,
   "metadata": {},
   "outputs": [],
   "source": [
    "# Define activation functions\n",
    "def sigmoid(x):\n",
    "    return 1 / (1 + np.exp(-x))\n",
    "\n",
    "def sigmoid_derivative(x):\n",
    "    return x * (1 - x)\n",
    "\n",
    "def relu(x):\n",
    "    return np.maximum(0, x)\n",
    "\n",
    "def relu_derivative(x):\n",
    "    return (x > 0).astype(float)\n",
    "\n",
    "def softmax(x):\n",
    "    exp_x = np.exp(x - np.max(x))  # Avoid overflow\n",
    "    return exp_x / exp_x.sum(axis=1, keepdims=True)\n",
    "\n",
    "# Cross-entropy loss function\n",
    "def cross_entropy_loss(y_true, y_pred):\n",
    "    return -np.mean(np.sum(y_true * np.log(y_pred + 1e-9), axis=1))\n",
    "\n",
    "def accuracy(y_true, y_pred):\n",
    "    correct_predictions = np.sum(np.argmax(y_pred, axis=1) == np.argmax(y_true, axis=1))\n",
    "    return (correct_predictions / len(y_true)) * 100\n",
    "\n"
   ]
  },
  {
   "cell_type": "code",
   "execution_count": 39,
   "metadata": {},
   "outputs": [],
   "source": [
    "# Initialize weights and biases\n",
    "np.random.seed(42)\n",
    "input_size, hidden1_size, hidden2_size, output_size = 784, 128, 64, 10\n",
    "\n",
    "w1 = np.random.randn(input_size, hidden1_size) * 0.01\n",
    "b1 = np.zeros((1, hidden1_size))\n",
    "w2 = np.random.randn(hidden1_size, hidden2_size) * 0.01\n",
    "b2 = np.zeros((1, hidden2_size))\n",
    "w3 = np.random.randn(hidden2_size, output_size) * 0.01\n",
    "b3 = np.zeros((1, output_size))\n",
    "\n"
   ]
  },
  {
   "cell_type": "code",
   "execution_count": 45,
   "metadata": {},
   "outputs": [],
   "source": [
    "# Hyperparameters\n",
    "learning_rate = 0.1\n",
    "epochs = 20\n",
    "batch_size = 64\n",
    "\n"
   ]
  },
  {
   "cell_type": "code",
   "execution_count": 46,
   "metadata": {},
   "outputs": [
    {
     "name": "stdout",
     "output_type": "stream",
     "text": [
      "Epoch 1/20 - Train Loss: 0.0163, Val Loss: 0.1221\n",
      "Epoch 2/20 - Train Loss: 0.0157, Val Loss: 0.1200\n",
      "Epoch 3/20 - Train Loss: 0.0151, Val Loss: 0.1271\n",
      "Epoch 4/20 - Train Loss: 0.0141, Val Loss: 0.1222\n",
      "Epoch 5/20 - Train Loss: 0.0131, Val Loss: 0.1213\n",
      "Epoch 6/20 - Train Loss: 0.0128, Val Loss: 0.1264\n",
      "Epoch 7/20 - Train Loss: 0.0119, Val Loss: 0.1285\n",
      "Epoch 8/20 - Train Loss: 0.0112, Val Loss: 0.1242\n",
      "Epoch 9/20 - Train Loss: 0.0107, Val Loss: 0.1234\n",
      "Epoch 10/20 - Train Loss: 0.0100, Val Loss: 0.1262\n",
      "Epoch 11/20 - Train Loss: 0.0094, Val Loss: 0.1286\n",
      "Epoch 12/20 - Train Loss: 0.0089, Val Loss: 0.1242\n",
      "Epoch 13/20 - Train Loss: 0.0085, Val Loss: 0.1273\n",
      "Epoch 14/20 - Train Loss: 0.0081, Val Loss: 0.1257\n",
      "Epoch 15/20 - Train Loss: 0.0076, Val Loss: 0.1281\n",
      "Epoch 16/20 - Train Loss: 0.0072, Val Loss: 0.1292\n",
      "Epoch 17/20 - Train Loss: 0.0068, Val Loss: 0.1273\n",
      "Epoch 18/20 - Train Loss: 0.0063, Val Loss: 0.1312\n",
      "Epoch 19/20 - Train Loss: 0.0061, Val Loss: 0.1316\n",
      "Epoch 20/20 - Train Loss: 0.0056, Val Loss: 0.1284\n"
     ]
    }
   ],
   "source": [
    "# Training process\n",
    "train_losses, val_losses = [], []\n",
    "\n",
    "for epoch in range(epochs):\n",
    "    permutation = np.random.permutation(len(x_train))\n",
    "    x_train_shuffled, y_train_shuffled = x_train[permutation], y_train[permutation]\n",
    "    \n",
    "    epoch_loss = 0\n",
    "    for i in range(0, len(x_train), batch_size):\n",
    "        x_batch = x_train_shuffled[i:i+batch_size]\n",
    "        y_batch = y_train_shuffled[i:i+batch_size]\n",
    "\n",
    "        # Forward propagation\n",
    "        z1 = np.dot(x_batch, w1) + b1\n",
    "        a1 = sigmoid(z1)\n",
    "        z2 = np.dot(a1, w2) + b2\n",
    "        a2 = relu(z2)\n",
    "        z3 = np.dot(a2, w3) + b3\n",
    "        a3 = softmax(z3)\n",
    "\n",
    "        # Compute loss\n",
    "        loss = cross_entropy_loss(y_batch, a3)\n",
    "        epoch_loss += loss\n",
    "\n",
    "        # Backpropagation\n",
    "        dz3 = a3 - y_batch\n",
    "        dw3 = np.dot(a2.T, dz3) / batch_size\n",
    "        db3 = np.sum(dz3, axis=0, keepdims=True) / batch_size\n",
    "\n",
    "        dz2 = np.dot(dz3, w3.T) * relu_derivative(a2)\n",
    "        dw2 = np.dot(a1.T, dz2) / batch_size\n",
    "        db2 = np.sum(dz2, axis=0, keepdims=True) / batch_size\n",
    "\n",
    "        dz1 = np.dot(dz2, w2.T) * sigmoid_derivative(a1)\n",
    "        dw1 = np.dot(x_batch.T, dz1) / batch_size\n",
    "        db1 = np.sum(dz1, axis=0, keepdims=True) / batch_size\n",
    "\n",
    "        # Gradient descent update\n",
    "        w1 -= learning_rate * dw1\n",
    "        b1 -= learning_rate * db1\n",
    "        w2 -= learning_rate * dw2\n",
    "        b2 -= learning_rate * db2\n",
    "        w3 -= learning_rate * dw3\n",
    "        b3 -= learning_rate * db3\n",
    "\n",
    "    # Validation loss\n",
    "    z1_val = np.dot(x_val, w1) + b1\n",
    "    a1_val = sigmoid(z1_val)\n",
    "    z2_val = np.dot(a1_val, w2) + b2\n",
    "    a2_val = relu(z2_val)\n",
    "    z3_val = np.dot(a2_val, w3) + b3\n",
    "    a3_val = softmax(z3_val)\n",
    "    \n",
    "    val_loss = cross_entropy_loss(y_val, a3_val)\n",
    "    val_acc = accuracy(y_val, a3_val)\n",
    "\n",
    "    train_losses.append(epoch_loss / (len(x_train) // batch_size))\n",
    "    val_losses.append(val_loss)\n",
    "    val_accuracies.append(val_acc)\n",
    "\n",
    "    print(f\"Epoch {epoch+1}/{epochs} - Train Loss: {train_losses[-1]:.4f}, Val Loss: {val_losses[-1]:.4f}\")\n",
    "\n"
   ]
  },
  {
   "cell_type": "code",
   "execution_count": 47,
   "metadata": {},
   "outputs": [
    {
     "name": "stdout",
     "output_type": "stream",
     "text": [
      "Test Accuracy: 97.67%\n"
     ]
    }
   ],
   "source": [
    "z1_test = np.dot(x_test, w1) + b1\n",
    "a1_test = sigmoid(z1_test)\n",
    "z2_test = np.dot(a1_test, w2) + b2\n",
    "a2_test = relu(z2_test)\n",
    "z3_test = np.dot(a2_test, w3) + b3\n",
    "a3_test = softmax(z3_test)\n",
    "test_acc = accuracy(y_test, a3_test)\n",
    "print(f\"Test Accuracy: {test_acc:.2f}%\")"
   ]
  },
  {
   "cell_type": "code",
   "execution_count": 48,
   "metadata": {},
   "outputs": [
    {
     "data": {
      "image/png": "[encoded data removed]",
      "text/plain": [
       "<Figure size 800x500 with 1 Axes>"
      ]
     },
     "metadata": {},
     "output_type": "display_data"
    }
   ],
   "source": [
    "# Plot the loss curves\n",
    "plt.figure(figsize=(8, 5))\n",
    "plt.plot(train_losses, label=\"Train Loss\", marker='o')\n",
    "plt.plot(val_losses, label=\"Validation Loss\", marker='s')\n",
    "plt.xlabel(\"Epochs\")\n",
    "plt.ylabel(\"Loss\")\n",
    "plt.title(\"Loss Curve\")\n",
    "plt.legend()\n",
    "plt.grid()\n",
    "plt.show()\n",
    "\n"
   ]
  },
  {
   "cell_type": "code",
   "execution_count": 258,
   "metadata": {},
   "outputs": [
    {
     "data": {
      "image/png": "[encoded data removed]",
      "text/plain": [
       "<Figure size 640x480 with 1 Axes>"
      ]
     },
     "metadata": {},
     "output_type": "display_data"
    },
    {
     "name": "stdout",
     "output_type": "stream",
     "text": [
      "Predicted Label: 2, Actual Label: 2\n",
      "Correct\n"
     ]
    }
   ],
   "source": [
    "# Test on a random image\n",
    "idx = np.random.randint(len(x_test))\n",
    "random_img = x_test[idx].reshape(1, -1)\n",
    "\n",
    "z1_test = np.dot(random_img, w1) + b1\n",
    "a1_test = sigmoid(z1_test)\n",
    "z2_test = np.dot(a1_test, w2) + b2\n",
    "a2_test = relu(z2_test)\n",
    "z3_test = np.dot(a2_test, w3) + b3\n",
    "a3_test = softmax(z3_test)\n",
    "\n",
    "predicted_label = np.argmax(a3_test)\n",
    "actual_label = np.argmax(y_test[idx])\n",
    "\n",
    "plt.imshow(x_test[idx].reshape(28, 28), cmap='gray')\n",
    "plt.title(f\"Predicted: {predicted_label}, Actual: {actual_label}\")\n",
    "plt.axis(\"off\")\n",
    "plt.show()\n",
    "print(f\"Predicted Label: {predicted_label}, Actual Label: {actual_label}\")\n",
    "if predicted_label == actual_label:\n",
    "    print(\"Correct\")\n",
    "else:\n",
    "    print(\"Incorrect\")"
   ]
  }
 ],
 "metadata": {
  "kernelspec": {
   "display_name": "base",
   "language": "python",
   "name": "python3"
  },
  "language_info": {
   "codemirror_mode": {
    "name": "ipython",
    "version": 3
   },
   "file_extension": ".py",
   "mimetype": "text/x-python",
   "name": "python",
   "nbconvert_exporter": "python",
   "pygments_lexer": "ipython3",
   "version": "3.12.7"
  }
 },
 "nbformat": 4,
 "nbformat_minor": 2
}
